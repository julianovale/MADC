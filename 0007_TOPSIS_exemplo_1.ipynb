{
  "nbformat": 4,
  "nbformat_minor": 0,
  "metadata": {
    "colab": {
      "name": "0007_TOPSIS_exemplo_1.ipynb",
      "provenance": [],
      "collapsed_sections": [],
      "authorship_tag": "ABX9TyNQPLfmBm0BTA0Q7Ki14Wsn",
      "include_colab_link": true
    },
    "kernelspec": {
      "name": "python3",
      "display_name": "Python 3"
    }
  },
  "cells": [
    {
      "cell_type": "markdown",
      "metadata": {
        "id": "view-in-github",
        "colab_type": "text"
      },
      "source": [
        "<a href=\"https://colab.research.google.com/github/julianovale/MCDA/blob/main/0007_TOPSIS_exemplo_1.ipynb\" target=\"_parent\"><img src=\"https://colab.research.google.com/assets/colab-badge.svg\" alt=\"Open In Colab\"/></a>"
      ]
    },
    {
      "cell_type": "code",
      "metadata": {
        "colab": {
          "base_uri": "https://localhost:8080/"
        },
        "id": "2LU7hLBWugzn",
        "outputId": "2c9f5173-bb8c-4617-eb01-448a7328c3be"
      },
      "source": [
        "# Filename: TOPSIS_example_1.py\r\n",
        "# Description: Application of TOPSIS in the first facility\r\n",
        "# location problem of Chapter 1\r\n",
        "# Authors: Papathanasiou, J. & Ploskas, N.\r\n",
        "\r\n",
        "from numpy import *\r\n",
        "\r\n",
        "# performances of the alternatives\r\n",
        "x = array([[8, 7, 2, 1], [5, 3, 7, 5], [7, 5, 6, 4],\r\n",
        "           [9, 9, 7, 3], [11, 10, 3, 7], [6, 9, 5, 4]])\r\n",
        "\r\n",
        "# weights of the criteria\r\n",
        "weights = array([0.4, 0.3, 0.1, 0.2])\r\n",
        "\r\n",
        "# Step 1 (vector normalization): cumsum() produces the\r\n",
        "# cumulative sum of the values in the array and can also\r\n",
        "# be used with a second argument to indicate the axis to use\r\n",
        "col_sums = array(cumsum(x**2, 0))\r\n",
        "norm_x = array([[round(x[i, j] / sqrt(col_sums[x.shape[0]\r\n",
        "\t- 1, j]), 3) for j in range(4)] for i in range(6)])\r\n",
        "\r\n",
        "# Step 2 (Multiply each evaluation by the associated weight):\r\n",
        "# wnx is the weighted normalized x matrix\r\n",
        "wnx = array([[round(weights[i] * norm_x[j, i], 3)\r\n",
        "    for i in range(4)] for j in range(6)])\r\n",
        "\r\n",
        "# Step 3 (positive and negative ideal solution)\r\n",
        "pis = array([amax(wnx[:, :1]), amax(wnx[:, 1:2]),\r\n",
        "    amax(wnx[:, 2:3]), amax(wnx[:, 3:4])])\r\n",
        "nis = array([amin(wnx[:, :1]), amin(wnx[:, 1:2]),\r\n",
        "    amin(wnx[:, 2:3]), amin(wnx[:, 3:4])])\r\n",
        "\r\n",
        "# Step 4a: determine the distance to the positive ideal\r\n",
        "# solution (dpis)\r\n",
        "b1 = array([[(wnx[j, i] - pis[i])**2 for i in range(4)]\r\n",
        "    for j in range(6)])\r\n",
        "dpis = sqrt(sum(b1, 1))\r\n",
        "\r\n",
        "# Step 4b: determine the distance to the negative ideal\r\n",
        "# solution (dnis)\r\n",
        "b2 = array([[(wnx[j, i] - nis[i])**2 for i in range(4)]\r\n",
        "    for j in range(6)])\r\n",
        "dnis = sqrt(sum(b2, 1))\r\n",
        "\r\n",
        "# Step 5: calculate the relative closeness to the ideal\r\n",
        "# solution\r\n",
        "final_solution = array([round(dnis[i] / (dpis[i] + dnis[i]),\r\n",
        "    3) for i in range(6)])\r\n",
        "print(\"Closeness coefficient = \", final_solution)"
      ],
      "execution_count": 1,
      "outputs": [
        {
          "output_type": "stream",
          "text": [
            "Closeness coefficient =  [0.387 0.327 0.389 0.617 0.87  0.493]\n"
          ],
          "name": "stdout"
        }
      ]
    }
  ]
}