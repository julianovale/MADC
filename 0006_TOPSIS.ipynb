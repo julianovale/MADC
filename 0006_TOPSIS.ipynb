{
  "nbformat": 4,
  "nbformat_minor": 0,
  "metadata": {
    "colab": {
      "name": "0006_TOPSIS.ipynb",
      "provenance": [],
      "collapsed_sections": [],
      "authorship_tag": "ABX9TyOmSxOfSL4wB8Rez/nTtRK1",
      "include_colab_link": true
    },
    "kernelspec": {
      "name": "python3",
      "display_name": "Python 3"
    }
  },
  "cells": [
    {
      "cell_type": "markdown",
      "metadata": {
        "id": "view-in-github",
        "colab_type": "text"
      },
      "source": [
        "<a href=\"https://colab.research.google.com/github/julianovale/MCDA/blob/main/0006_TOPSIS.ipynb\" target=\"_parent\"><img src=\"https://colab.research.google.com/assets/colab-badge.svg\" alt=\"Open In Colab\"/></a>"
      ]
    },
    {
      "cell_type": "code",
      "metadata": {
        "colab": {
          "base_uri": "https://localhost:8080/",
          "height": 346
        },
        "id": "mUtATNBCt9Gh",
        "outputId": "3a808f1b-f73a-435c-e370-e376ae11e071"
      },
      "source": [
        "# Filename: TOPSIS.py\r\n",
        "# Description: TOPSIS method\r\n",
        "# Authors: Papathanasiou, J. & Ploskas, N.\r\n",
        "\r\n",
        "from numpy import *\r\n",
        "import matplotlib.pyplot as plt\r\n",
        "import timeit\r\n",
        "\r\n",
        "# Step 1: normalize the decision matrix\r\n",
        "def norm(x, y):\r\n",
        "    \"\"\" normalization function; x is the array with the\r\n",
        "    performances and y is the normalization method.\r\n",
        "    For vector input 'v' and for linear 'l'\r\n",
        "\t\"\"\"\r\n",
        "    if y == 'v':\r\n",
        "        k = array(cumsum(x**2, 0))\r\n",
        "        z = array([[round(x[i, j] / sqrt(k[x.shape[0] - 1,\r\n",
        "            j]), 3) for j in range(x.shape[1])]\r\n",
        "            for i in range(x.shape[0])])\r\n",
        "        return z\r\n",
        "    else:\r\n",
        "        yy = []\r\n",
        "        for i in range(x.shape[1]):\r\n",
        "            yy.append(amax(x[:, i:i + 1]))\r\n",
        "            k = array(yy)\r\n",
        "        z = array([[round(x[i, j] / k[j], 3)\r\n",
        "            for j in range(x.shape[1])]\r\n",
        "            for i in range(x.shape[0])])\r\n",
        "        return z\r\n",
        "\r\n",
        "# Step 2: find the weighted normalized decision matrix\r\n",
        "def mul_w(r, t):\r\n",
        "    \"\"\" multiplication of each evaluation by the associate\r\n",
        "    weight; r stands for the weights matrix and t for\r\n",
        "    the normalized matrix resulting from norm()\r\n",
        "\t\"\"\"\r\n",
        "    z = array([[round(t[i, j] * r[j], 3)\r\n",
        "        for j in range(t.shape[1])]\r\n",
        "        for i in range(t.shape[0])])\r\n",
        "    return z\r\n",
        "\r\n",
        "# Step 3: calculate the ideal and anti-ideal solutions\r\n",
        "def zenith_nadir(x, y):\r\n",
        "    \"\"\" zenith and nadir virtual action function; x is the\r\n",
        "    weighted normalized decision matrix and y is the\r\n",
        "    action used. For min/max input 'm' and for absolute\r\n",
        "    input enter 'a'\r\n",
        "\t\"\"\"\r\n",
        "    if y == 'm':\r\n",
        "        bb = []\r\n",
        "        cc = []\r\n",
        "        for i in range(x.shape[1]):\r\n",
        "            bb.append(amax(x[:, i:i + 1]))\r\n",
        "            b = array(bb)\r\n",
        "            cc.append(amin(x[:, i:i + 1]))\r\n",
        "            c = array(cc)\r\n",
        "        return (b, c)\r\n",
        "    else:\r\n",
        "        b = ones(x.shape[1])\r\n",
        "        c = zeros(x.shape[1])\r\n",
        "        return (b, c)\r\n",
        "\r\n",
        "# Step 4: determine the distance to the ideal and anti-ideal\r\n",
        "# solutions\r\n",
        "def distance(x, y, z):\r\n",
        "    \"\"\" calculate the distances to the ideal solution (di+)\r\n",
        "    and the anti-ideal solution (di-); x is the result\r\n",
        "    of mul_w() and y, z the results of zenith_nadir()\r\n",
        "\t\"\"\"\r\n",
        "    a = array([[(x[i, j] - y[j])**2 \r\n",
        "\t\tfor j in range(x.shape[1])] \r\n",
        "\t\tfor i in range(x.shape[0])])\r\n",
        "    b = array([[(x[i, j] - z[j])**2 \r\n",
        "\t\tfor j in range(x.shape[1])]\r\n",
        "        for i in range(x.shape[0])])\r\n",
        "    return (sqrt(sum(a, 1)), sqrt(sum(b, 1)))\r\n",
        "\r\n",
        "# TOPSIS method: it calls the other functions and includes\r\n",
        "# step 5\r\n",
        "def topsis(matrix, weight, norm_m, id_sol, pl):\r\n",
        "    \"\"\" matrix is the initial decision matrix, weight is \r\n",
        "\tthe weights matrix, norm_m is the normalization \r\n",
        "\tmethod, id_sol is the action used, and pl is 'y' \r\n",
        "\tfor plotting the results or any other string for \r\n",
        "\tnot \r\n",
        "\t\"\"\"\r\n",
        "    z = mul_w(weight, norm(matrix, norm_m))\r\n",
        "    s, f = zenith_nadir(z, id_sol)\r\n",
        "    p, n = distance(z, s, f)\r\n",
        "    final_s = array([n[i] / (p[i] + n[i]) \r\n",
        "\t\tfor i in range(p.shape[0])])\r\n",
        "    if pl == 'y':\r\n",
        "        q = [i + 1 for i in range(matrix.shape[0])]\r\n",
        "        plt.plot(q, p, 'p--', color = 'red', \r\n",
        "            markeredgewidth = 2, markersize = 8)\r\n",
        "        plt.plot(q, n, '*--',  color = 'blue', \r\n",
        "            markeredgewidth = 2, markersize = 8)\r\n",
        "        plt.plot(q, final_s, 'o--', color = 'green',\r\n",
        "            markeredgewidth = 2, markersize = 8)\r\n",
        "        plt.title('TOPSIS results')\r\n",
        "        plt.legend(['Distance from the ideal', \r\n",
        "            'Distance from the anti-ideal', \r\n",
        "            'Closeness coefficient'])\r\n",
        "        plt.xticks(range(matrix.shape[0] + 2))\r\n",
        "        plt.axis([0, matrix.shape[0] + 1, 0, 3])\r\n",
        "        plt.xlabel('Alternatives')\r\n",
        "        plt.legend()\r\n",
        "        plt.grid(True)\r\n",
        "        plt.show()\r\n",
        "    return final_s\r\n",
        "\r\n",
        "# performances of the alternatives\r\n",
        "x = array([[8, 7, 2, 1], [5, 3, 7, 5], [7, 5, 6, 4],\r\n",
        "           [9, 9, 7, 3], [11, 10, 3, 7], [6, 9, 5, 4]])\r\n",
        "\r\n",
        "# weights of the criteria\r\n",
        "w = array([0.4, 0.3, 0.1, 0.2])\r\n",
        "\r\n",
        "# final results\r\n",
        "start = timeit.default_timer()\r\n",
        "topsis(x, w, 'v', 'm', 'n')\r\n",
        "stop = timeit.default_timer()\r\n",
        "print(\"time = \", stop - start)\r\n",
        "print(\"Closeness coefficient = \", \r\n",
        "\ttopsis(x, w, 'v', 'm', 'y'))"
      ],
      "execution_count": 1,
      "outputs": [
        {
          "output_type": "stream",
          "text": [
            "No handles with labels found to put in legend.\n"
          ],
          "name": "stderr"
        },
        {
          "output_type": "stream",
          "text": [
            "time =  0.0052921500000024935\n"
          ],
          "name": "stdout"
        },
        {
          "output_type": "display_data",
          "data": {
            "image/png": "[encoded data removed]",
            "text/plain": [
              "<Figure size 432x288 with 1 Axes>"
            ]
          },
          "metadata": {
            "tags": [],
            "needs_background": "light"
          }
        },
        {
          "output_type": "stream",
          "text": [
            "Closeness coefficient =  [0.38704994 0.32708518 0.38923951 0.61671064 0.86999539 0.49283341]\n"
          ],
          "name": "stdout"
        }
      ]
    }
  ]
}