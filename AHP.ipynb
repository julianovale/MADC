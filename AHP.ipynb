{
  "nbformat": 4,
  "nbformat_minor": 0,
  "metadata": {
    "colab": {
      "name": "AHP.ipynb",
      "provenance": [],
      "collapsed_sections": [],
      "include_colab_link": true
    },
    "kernelspec": {
      "name": "python3",
      "display_name": "Python 3"
    }
  },
  "cells": [
    {
      "cell_type": "markdown",
      "metadata": {
        "id": "view-in-github",
        "colab_type": "text"
      },
      "source": [
        "<a href=\"https://colab.research.google.com/github/julianovale/MADC/blob/main/AHP.ipynb\" target=\"_parent\"><img src=\"https://colab.research.google.com/assets/colab-badge.svg\" alt=\"Open In Colab\"/></a>"
      ]
    },
    {
      "cell_type": "markdown",
      "metadata": {
        "id": "b3cS8NGgm4mj"
      },
      "source": [
        "FCA - UNICAMP\n",
        "\n",
        "Disciplina: PO460: Métodos de Apoio à Decisão Multicritério\n",
        "\n",
        "Introdução ao método **AHP**"
      ]
    },
    {
      "cell_type": "code",
      "metadata": {
        "id": "GiByz931m2xK"
      },
      "source": [
        "#Importando os pacotes do Python que serão utilizados\n",
        "import numpy as np  # pacote numpy importado com o apelido de np\n",
        "import cmath # pacote cmath faz operações com numeros complexos"
      ],
      "execution_count": 1,
      "outputs": []
    },
    {
      "cell_type": "code",
      "metadata": {
        "id": "eyUSWw4uolYP"
      },
      "source": [
        "#Matriz de comparação par a par entre os critérios\n",
        "C=[[1, 2, 4],[1/2, 1, 3],[1/4,1/3,1]]\n"
      ],
      "execution_count": 2,
      "outputs": []
    },
    {
      "cell_type": "code",
      "metadata": {
        "id": "bYuhJ-jwqZnA",
        "outputId": "82b2326e-ae03-47ae-a46e-db676ee1ee21",
        "colab": {
          "base_uri": "https://localhost:8080/",
          "height": 102
        }
      },
      "source": [
        "#Cálculo do autovalor e do autorvetor de C\n",
        "autovalor, autovetor=np.linalg.eig(C)\n",
        "#Considerar apenas a parte real do autovalor\n",
        "autovalor_real = autovalor.real\n",
        "autovetor = autovetor.real\n",
        "print(autovalor_real)\n",
        "print(\" \")\n",
        "print(autovetor.real)"
      ],
      "execution_count": 4,
      "outputs": [
        {
          "output_type": "stream",
          "text": [
            "[ 3.01829471 -0.00914735 -0.00914735]\n",
            " \n",
            "[[ 0.85271323  0.85271323  0.85271323]\n",
            " [ 0.48805649 -0.24402824 -0.24402824]\n",
            " [ 0.1862284  -0.0931142  -0.0931142 ]]\n"
          ],
          "name": "stdout"
        }
      ]
    },
    {
      "cell_type": "code",
      "metadata": {
        "id": "rn1KgNLZsYYm",
        "outputId": "dbd5fbbc-3df2-4e11-d318-549d0a9d07da",
        "colab": {
          "base_uri": "https://localhost:8080/",
          "height": 68
        }
      },
      "source": [
        "#Encontrar o maior autovalor e sua posição\n",
        "lambda_max = np.amax(autovalor_real) # maior autovalor\n",
        "lambda_ind=np.argmax(autovalor_real) # posição do maior autovalor\n",
        "print(\"O maior autovalor (lambda_max) é:\", lambda_max)\n",
        "print(\" \")\n",
        "print(\"Ele está na posição:\", lambda_ind, \"do vetor\")"
      ],
      "execution_count": 5,
      "outputs": [
        {
          "output_type": "stream",
          "text": [
            "O maior autovalor (lambda_max) é: 3.01829470728963\n",
            " \n",
            "Ele está na posição: 0 do vetor\n"
          ],
          "name": "stdout"
        }
      ]
    },
    {
      "cell_type": "code",
      "metadata": {
        "id": "tQ2Ounuqs9OY",
        "outputId": "ae12cf91-b9a5-4892-d0c2-9daec0eda339",
        "colab": {
          "base_uri": "https://localhost:8080/",
          "height": 72
        }
      },
      "source": [
        "#Calculando o vetor de prioridades, com base no autovetor associado ao maior autovalor\n",
        "vetor_P=autovetor[:, lambda_ind] #pega o autovalor correspondente a lambda_max\n",
        "print(vetor_P)\n",
        "\n",
        "#Normalizando o vetor_P para que tenha soma 1\n",
        "vetor_P = vetor_P/sum(vetor_P) # w é o vetor de pesos normalizado\n",
        "print(\" \")\n",
        "print(vetor_P)"
      ],
      "execution_count": null,
      "outputs": [
        {
          "output_type": "stream",
          "text": [
            "[0.85271323 0.48805649 0.1862284 ]\n",
            " \n",
            "[0.55842454 0.31961826 0.12195719]\n"
          ],
          "name": "stdout"
        }
      ]
    },
    {
      "cell_type": "code",
      "metadata": {
        "id": "ozVlwP6npvrK",
        "outputId": "46d0c427-dd8d-4698-d423-5e3f3cdfdb93",
        "colab": {
          "base_uri": "https://localhost:8080/",
          "height": 72
        }
      },
      "source": [
        "#Calculo da consistência da matriz de comparação par a par\n",
        "RI_list = [0,0,0.58,0.90,1.12,1.24,1.32,1.41,1.45] # valores de RI pré-definidos\n",
        "n = len(C) # número de linhas de C\n",
        "CI = (lambda_max - n)/(n-1)\n",
        "RC = CI/RI_list[n-1]\n",
        "\n",
        "print(\"A razão de consistência é \", RC)\n",
        "print(\" \")\n",
        "if RC <= 0.1:\n",
        "  print(\"A matriz é consistente\")\n",
        "else:\n",
        "  print('\\033[91m'+\"Atenção:\"+'\\033[0m'+ \"a matriz NÃO É consistente - revisar a comparação par-a-par.\")\n"
      ],
      "execution_count": null,
      "outputs": [
        {
          "output_type": "stream",
          "text": [
            "A razão de consistência é  0.015771299387612077\n",
            " \n",
            "A matriz é consistente\n"
          ],
          "name": "stdout"
        }
      ]
    },
    {
      "cell_type": "code",
      "metadata": {
        "id": "xJYmtWRezExG",
        "outputId": "62b7db16-88b2-4529-c691-e9803229d679",
        "colab": {
          "base_uri": "https://localhost:8080/",
          "height": 35
        }
      },
      "source": [
        "#Após calcular todos os vetores de prioridade, a agregação pode ser feita multiplicando as matrizes B pelo vetor de pesos w\n",
        "B = [[1,1,1],[1,1,1],[1,1,1],[1,1,1]]\n",
        "w = [0.55842454, 0.31961826, 0.12195719]\n",
        "V=np.matmul(B, w)\n",
        "print(V)"
      ],
      "execution_count": null,
      "outputs": [
        {
          "output_type": "stream",
          "text": [
            "[0.99999999 0.99999999 0.99999999 0.99999999]\n"
          ],
          "name": "stdout"
        }
      ]
    },
    {
      "cell_type": "code",
      "metadata": {
        "id": "gjaiH68VyiNN"
      },
      "source": [
        "#Programando o método do autovalor como uma função\n",
        "def ahp(C):\n",
        "  autovalor, autovetor=np.linalg.eig(C)\n",
        "  autovalor_real = autovalor.real\n",
        "  autovetor = autovetor.real\n",
        "  lambda_max = np.amax(autovalor_real) # maior autovalor\n",
        "  lambda_ind=np.argmax(autovalor_real) # posição do maior autovalor\n",
        "  vetor_P=autovetor[:, lambda_ind] #pega o autovalor correspondente a lambda_max\n",
        "  vetor_P = vetor_P/sum(vetor_P) # w é o vetor de pesos normalizado\n",
        "  RI_list = [0,0,0.58,0.90,1.12,1.24,1.32,1.41,1.45] # valores de RI pré-definidos\n",
        "  n = len(C) # número de linhas de C\n",
        "  CI = (lambda_max - n)/(n-1)\n",
        "  RC = CI/RI_list[n-1]\n",
        "  print(\"A razão de consistência é \", RC)\n",
        "  print(\" \")\n",
        "  if RC <= 0.1:\n",
        "    print(\"A matriz é consistente\")\n",
        "  else:\n",
        "    print('\\033[91m'+\"Atenção:\"+'\\033[0m'+ \"a matriz NÃO É consistente - revisar a comparação par-a-par.\")\n",
        "  print(\" \")\n",
        "  print(\"O vetor de prioridades é v:\", vetor_P)\n",
        "  print(\" \")\n"
      ],
      "execution_count": null,
      "outputs": []
    },
    {
      "cell_type": "code",
      "metadata": {
        "id": "W2Tbg6Nr0lX1",
        "outputId": "a9de912c-f994-49e9-f1ee-8a59d7bd0b78",
        "colab": {
          "base_uri": "https://localhost:8080/",
          "height": 126
        }
      },
      "source": [
        "ahp(C)"
      ],
      "execution_count": null,
      "outputs": [
        {
          "output_type": "stream",
          "text": [
            "A razão de consistência é  0.015771299387612077\n",
            " \n",
            "A matriz é consistente\n",
            " \n",
            "O vetor de prioridades é v: [0.55842454 0.31961826 0.12195719]\n",
            " \n"
          ],
          "name": "stdout"
        }
      ]
    }
  ]
}