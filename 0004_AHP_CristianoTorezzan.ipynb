{
  "nbformat": 4,
  "nbformat_minor": 0,
  "metadata": {
    "colab": {
      "name": "0004_AHP_CristianoTorezzan.ipynb",
      "provenance": [],
      "collapsed_sections": [],
      "include_colab_link": true
    },
    "kernelspec": {
      "name": "python3",
      "display_name": "Python 3"
    }
  },
  "cells": [
    {
      "cell_type": "markdown",
      "metadata": {
        "id": "view-in-github",
        "colab_type": "text"
      },
      "source": [
        "<a href=\"https://colab.research.google.com/github/julianovale/MCDA/blob/main/0004_AHP_CristianoTorezzan.ipynb\" target=\"_parent\"><img src=\"https://colab.research.google.com/assets/colab-badge.svg\" alt=\"Open In Colab\"/></a>"
      ]
    },
    {
      "cell_type": "markdown",
      "metadata": {
        "id": "b3cS8NGgm4mj"
      },
      "source": [
        "FCA - UNICAMP\n",
        "\n",
        "Disciplina: PO460: Métodos de Apoio à Decisão Multicritério\n",
        "\n",
        "Introdução ao método **AHP**"
      ]
    },
    {
      "cell_type": "code",
      "metadata": {
        "id": "GiByz931m2xK"
      },
      "source": [
        "#Importando os pacotes do Python que serão utilizados\n",
        "import numpy as np  # pacote numpy importado com o apelido de np\n",
        "import cmath # pacote cmath faz operações com numeros complexos"
      ],
      "execution_count": null,
      "outputs": []
    },
    {
      "cell_type": "code",
      "metadata": {
        "id": "eyUSWw4uolYP",
        "colab": {
          "base_uri": "https://localhost:8080/",
          "height": 34
        },
        "outputId": "5d51ff1d-26db-42e3-e7a1-005c23ff1ee5"
      },
      "source": [
        "#Matriz de comparação par a par entre os critérios\n",
        "C=[[1, 7, 7],[1/7, 1, 2],[1/7,1/2,1]]\n",
        "C\n"
      ],
      "execution_count": null,
      "outputs": [
        {
          "output_type": "execute_result",
          "data": {
            "text/plain": [
              "[[1, 7, 7], [0.14285714285714285, 1, 2], [0.14285714285714285, 0.5, 1]]"
            ]
          },
          "metadata": {
            "tags": []
          },
          "execution_count": 13
        }
      ]
    },
    {
      "cell_type": "code",
      "metadata": {
        "id": "bYuhJ-jwqZnA",
        "colab": {
          "base_uri": "https://localhost:8080/",
          "height": 102
        },
        "outputId": "d0e56aa6-4a56-4d90-d1b0-9238b4d79264"
      },
      "source": [
        "#Cálculo do autovalor e do autorvetor de C\n",
        "autovalor, autovetor=np.linalg.eig(C)\n",
        "#Considerar apenas a parte real do autovalor\n",
        "autovalor_real = autovalor.real\n",
        "autovetor = autovetor.real\n",
        "print(autovalor_real)\n",
        "print(\" \")\n",
        "print(autovetor.real)"
      ],
      "execution_count": null,
      "outputs": [
        {
          "output_type": "stream",
          "text": [
            "[ 3.05362158 -0.02681079 -0.02681079]\n",
            " \n",
            "[[ 0.97811392  0.97811392  0.97811392]\n",
            " [ 0.17604947 -0.08802474 -0.08802474]\n",
            " [ 0.11090422 -0.05545211 -0.05545211]]\n"
          ],
          "name": "stdout"
        }
      ]
    },
    {
      "cell_type": "code",
      "metadata": {
        "id": "rn1KgNLZsYYm",
        "colab": {
          "base_uri": "https://localhost:8080/",
          "height": 68
        },
        "outputId": "737d611d-9186-460c-fbe4-4c0c60e9ae0e"
      },
      "source": [
        "#Encontrar o maior autovalor e sua posição\n",
        "lambda_max = np.amax(autovalor_real) # maior autovalor\n",
        "lambda_ind=np.argmax(autovalor_real) # posição do maior autovalor\n",
        "print(\"O maior autovalor (lambda_max) é:\", lambda_max)\n",
        "print(\" \")\n",
        "print(\"Ele está na posição:\", lambda_ind, \"do vetor\")"
      ],
      "execution_count": null,
      "outputs": [
        {
          "output_type": "stream",
          "text": [
            "O maior autovalor (lambda_max) é: 3.0536215758789713\n",
            " \n",
            "Ele está na posição: 0 do vetor\n"
          ],
          "name": "stdout"
        }
      ]
    },
    {
      "cell_type": "code",
      "metadata": {
        "id": "tQ2Ounuqs9OY",
        "colab": {
          "base_uri": "https://localhost:8080/",
          "height": 68
        },
        "outputId": "25ea470a-cc2c-4930-e775-3475be443a71"
      },
      "source": [
        "#Calculando o vetor de prioridades, com base no autovetor associado ao maior autovalor\n",
        "vetor_P=autovetor[:, lambda_ind] #pega o autovalor correspondente a lambda_max\n",
        "print(vetor_P)\n",
        "\n",
        "#Normalizando o vetor_P para que tenha soma 1\n",
        "vetor_P = vetor_P/sum(vetor_P) # w é o vetor de pesos normalizado\n",
        "print(\" \")\n",
        "print(vetor_P)"
      ],
      "execution_count": null,
      "outputs": [
        {
          "output_type": "stream",
          "text": [
            "[0.97811392 0.17604947 0.11090422]\n",
            " \n",
            "[0.77317126 0.13916211 0.08766663]\n"
          ],
          "name": "stdout"
        }
      ]
    },
    {
      "cell_type": "code",
      "metadata": {
        "id": "ozVlwP6npvrK",
        "colab": {
          "base_uri": "https://localhost:8080/",
          "height": 102
        },
        "outputId": "afbca322-dc97-47c5-eb30-6611cededb5a"
      },
      "source": [
        "#Calculo da consistência da matriz de comparação par a par\n",
        "RI_list = [0,0,0.58,0.90,1.12,1.24,1.32,1.41,1.45] # valores de RI pré-definidos\n",
        "n = len(C) # número de linhas de C\n",
        "CI = (lambda_max - n)/(n-1)\n",
        "RC = CI/RI_list[n-1]\n",
        "\n",
        "print(\"CI: \", CI)\n",
        "print(\"RI: \", RI_list[n-1])\n",
        "print(\"A razão de consistência é \", RC)\n",
        "print(\" \")\n",
        "if RC <= 0.1:\n",
        "  print(\"A matriz é consistente\")\n",
        "else:\n",
        "  print('\\033[91m'+\"Atenção:\"+'\\033[0m'+ \"a matriz NÃO É consistente - revisar a comparação par-a-par.\")\n"
      ],
      "execution_count": null,
      "outputs": [
        {
          "output_type": "stream",
          "text": [
            "CI:  0.02681078793948566\n",
            "RI:  0.58\n",
            "A razão de consistência é  0.04622549644738907\n",
            " \n",
            "A matriz é consistente\n"
          ],
          "name": "stdout"
        }
      ]
    },
    {
      "cell_type": "code",
      "metadata": {
        "id": "xJYmtWRezExG",
        "colab": {
          "base_uri": "https://localhost:8080/",
          "height": 34
        },
        "outputId": "7174709c-a893-4cb6-945b-9515fa213833"
      },
      "source": [
        "#Após calcular todos os vetores de prioridade, a agregação pode ser feita multiplicando as matrizes B pelo vetor de pesos w\n",
        "B = [[1,1,1],[1,1,1],[1,1,1],[1,1,1]]\n",
        "w = [0.55842454, 0.31961826, 0.12195719]\n",
        "V=np.matmul(B, w)\n",
        "print(V)"
      ],
      "execution_count": null,
      "outputs": [
        {
          "output_type": "stream",
          "text": [
            "[0.99999999 0.99999999 0.99999999 0.99999999]\n"
          ],
          "name": "stdout"
        }
      ]
    },
    {
      "cell_type": "code",
      "metadata": {
        "id": "gjaiH68VyiNN"
      },
      "source": [
        "#Programando o método do autovalor como uma função\n",
        "def ahp(C):\n",
        "  autovalor, autovetor=np.linalg.eig(C)\n",
        "  autovalor_real = autovalor.real\n",
        "  autovetor = autovetor.real\n",
        "  lambda_max = np.amax(autovalor_real) # maior autovalor\n",
        "  lambda_ind=np.argmax(autovalor_real) # posição do maior autovalor\n",
        "  vetor_P=autovetor[:, lambda_ind] #pega o autovalor correspondente a lambda_max\n",
        "  vetor_P = vetor_P/sum(vetor_P) # w é o vetor de pesos normalizado\n",
        "  RI_list = [0,0,0.58,0.90,1.12,1.24,1.32,1.41,1.45] # valores de RI pré-definidos\n",
        "  n = len(C) # número de linhas de C\n",
        "  CI = (lambda_max - n)/(n-1)\n",
        "  RC = CI/RI_list[n-1]\n",
        "  print(\"CI: \", CI)\n",
        "  print(\"RI: \", RI_list[n-1])\n",
        "  print(\"A razão de consistência é \", RC)\n",
        "  print(\" \")\n",
        "  if RC <= 0.1:\n",
        "    print(\"A matriz é consistente\")\n",
        "  else:\n",
        "    print('\\033[91m'+\"Atenção:\"+'\\033[0m'+ \"a matriz NÃO É consistente - revisar a comparação par-a-par.\")\n",
        "  print(\" \")\n",
        "  print(\"O vetor de prioridades é v:\", vetor_P)\n",
        "  print(\" \")\n"
      ],
      "execution_count": null,
      "outputs": []
    },
    {
      "cell_type": "code",
      "metadata": {
        "id": "rrmYInAapqsu",
        "colab": {
          "base_uri": "https://localhost:8080/",
          "height": 153
        },
        "outputId": "2cdadf27-fbf1-4e86-a9f0-aa4ef98ac4bd"
      },
      "source": [
        "ahp(C)\n"
      ],
      "execution_count": null,
      "outputs": [
        {
          "output_type": "stream",
          "text": [
            "CI:  0.02681078793948566\n",
            "RI:  0.58\n",
            "A razão de consistência é  0.04622549644738907\n",
            " \n",
            "A matriz é consistente\n",
            " \n",
            "O vetor de prioridades é v: [0.77317126 0.13916211 0.08766663]\n",
            " \n"
          ],
          "name": "stdout"
        }
      ]
    },
    {
      "cell_type": "code",
      "metadata": {
        "id": "RCP5R3MGpeCw"
      },
      "source": [
        "preco = [[1,0.3333,0.2,0.1428],[3,1,0.3333,0.2],[5,3,1,0.2],[7,5,5,1]]\n",
        "nota = [[1,3,2,7],[0.3333,1,0.5,5],[0.5,2,1,6],[0.1428,0.2,0.1666,1]]\n",
        "localizacao = [[1,2,5,4],[0.5,1,4,2],[0.2,0.25,1,0.5],[0.25,0.5,2,1]]"
      ],
      "execution_count": null,
      "outputs": []
    },
    {
      "cell_type": "code",
      "metadata": {
        "id": "W2Tbg6Nr0lX1",
        "colab": {
          "base_uri": "https://localhost:8080/",
          "height": 153
        },
        "outputId": "b1a78078-06a2-411c-f162-05308f27f956"
      },
      "source": [
        "ahp(preco)\n"
      ],
      "execution_count": null,
      "outputs": [
        {
          "output_type": "stream",
          "text": [
            "CI:  0.08006139329039463\n",
            "RI:  0.9\n",
            "A razão de consistência é  0.08895710365599403\n",
            " \n",
            "A matriz é consistente\n",
            " \n",
            "O vetor de prioridades é v: [0.05206145 0.10901511 0.21950489 0.61941855]\n",
            " \n"
          ],
          "name": "stdout"
        }
      ]
    },
    {
      "cell_type": "code",
      "metadata": {
        "id": "PnPbNn9duxTm",
        "colab": {
          "base_uri": "https://localhost:8080/",
          "height": 153
        },
        "outputId": "78a9122a-77ac-408b-ed17-e4e46a46819e"
      },
      "source": [
        "ahp(nota)\n"
      ],
      "execution_count": null,
      "outputs": [
        {
          "output_type": "stream",
          "text": [
            "CI:  0.025441234805671325\n",
            "RI:  0.9\n",
            "A razão de consistência é  0.02826803867296814\n",
            " \n",
            "A matriz é consistente\n",
            " \n",
            "O vetor de prioridades é v: [0.47842674 0.18006525 0.29179126 0.04971675]\n",
            " \n"
          ],
          "name": "stdout"
        }
      ]
    },
    {
      "cell_type": "code",
      "metadata": {
        "id": "5avfA6MYwNai",
        "colab": {
          "base_uri": "https://localhost:8080/",
          "height": 153
        },
        "outputId": "78264119-852e-456c-9552-900488703534"
      },
      "source": [
        "ahp(localizacao)\n"
      ],
      "execution_count": null,
      "outputs": [
        {
          "output_type": "stream",
          "text": [
            "CI:  0.009246313859649172\n",
            "RI:  0.9\n",
            "A razão de consistência é  0.010273682066276858\n",
            " \n",
            "A matriz é consistente\n",
            " \n",
            "O vetor de prioridades é v: [0.50079316 0.27993237 0.0793083  0.13996618]\n",
            " \n"
          ],
          "name": "stdout"
        }
      ]
    }
  ]
}